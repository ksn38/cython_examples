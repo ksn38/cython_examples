{
 "cells": [
  {
   "cell_type": "code",
   "execution_count": 1,
   "metadata": {},
   "outputs": [],
   "source": [
    "from PIL import Image\n",
    "import PIL.ImageOps    \n",
    "import os\n",
    "import numpy as np\n",
    "import matplotlib.pyplot as plt\n",
    "import matplotlib.colors"
   ]
  },
  {
   "cell_type": "code",
   "execution_count": 9,
   "metadata": {},
   "outputs": [],
   "source": [
    "def greyscale(path):\n",
    "    image = Image.open('E:\\\\Temp\\\\tmp\\\\' + path)\n",
    "\n",
    "    if image.mode == 'RGBA':\n",
    "        r,g,b,a = image.split()\n",
    "        rgb_image = Image.merge('RGB', (r,g,b))\n",
    "\n",
    "    #     inverted_image = PIL.ImageOps.invert(rgb_image)\n",
    "    #     r2,g2,b2 = inverted_image.split()\n",
    "    #     final_transparent_image = Image.merge('RGBA', (r2,g2,b2,a))\n",
    "        final_transparent_image = PIL.ImageOps.grayscale(rgb_image)\n",
    "        final_transparent_image = PIL.ImageOps.autocontrast(final_transparent_image)\n",
    "        final_transparent_image.save('E:\\\\Temp\\\\tmp\\\\' + path)\n",
    "\n",
    "    else:\n",
    "        inverted_image = PIL.ImageOps.invert(image)\n",
    "        #inverted_image.save('new_name.png')\n",
    "\n",
    "        inverted_image.save('E:\\\\Temp\\\\tmp\\\\' + path)"
   ]
  },
  {
   "cell_type": "code",
   "execution_count": 11,
   "metadata": {},
   "outputs": [],
   "source": [
    "greyscale('0000.png')"
   ]
  },
  {
   "cell_type": "code",
   "execution_count": 16,
   "metadata": {},
   "outputs": [],
   "source": [
    "for i in os.listdir('E:\\\\Temp\\\\tmp\\\\'):\n",
    "    greyscale(i)"
   ]
  },
  {
   "cell_type": "code",
   "execution_count": null,
   "metadata": {},
   "outputs": [],
   "source": [
    "import mandelbrot_image_circle\n",
    "\n",
    "my_cmap = matplotlib.colors.ListedColormap(['#1c1b41', '#edcf02', '#38703f', '#f5f7db', \\\n",
    "                '#292328', '#e42417', '#546da2', '#d8b21e'], name='my_cmap')\n",
    "mb = mandelbrot_image_circle.calc_mand(720, 50, 3.5, -0.5, 0, 2)\n",
    "\n",
    "plt.subplots()[0].set_size_inches(5, 5)\n",
    "plt.imshow((mb.imag), cmap=my_cmap)"
   ]
  },
  {
   "cell_type": "code",
   "execution_count": null,
   "metadata": {},
   "outputs": [],
   "source": [
    "import mandelbrot2"
   ]
  }
 ],
 "metadata": {
  "kernelspec": {
   "display_name": "Python 3 (ipykernel)",
   "language": "python",
   "name": "python3"
  },
  "language_info": {
   "codemirror_mode": {
    "name": "ipython",
    "version": 3
   },
   "file_extension": ".py",
   "mimetype": "text/x-python",
   "name": "python",
   "nbconvert_exporter": "python",
   "pygments_lexer": "ipython3",
   "version": "3.11.4"
  }
 },
 "nbformat": 4,
 "nbformat_minor": 4
}
